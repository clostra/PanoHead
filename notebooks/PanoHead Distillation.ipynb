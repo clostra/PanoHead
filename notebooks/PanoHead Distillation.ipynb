{
 "cells": [
  {
   "cell_type": "code",
   "execution_count": 1,
   "metadata": {},
   "outputs": [],
   "source": [
    "%load_ext autoreload\n",
    "%autoreload 2\n",
    "\n",
    "import os\n",
    "import sys\n",
    "import numpy as np\n",
    "from pathlib import Path\n",
    "from tqdm import tqdm\n",
    "import matplotlib.pyplot as plt\n",
    "import torch\n",
    "import json\n",
    "\n",
    "os.environ[\"CUDA_DEVICE_ORDER\"]=\"PCI_BUS_ID\"\n",
    "os.environ['CUDA_VISIBLE_DEVICES'] = '1'"
   ]
  },
  {
   "cell_type": "markdown",
   "metadata": {},
   "source": [
    "# Load data"
   ]
  },
  {
   "cell_type": "code",
   "execution_count": 2,
   "metadata": {},
   "outputs": [],
   "source": [
    "path = Path(\"../dataset/dmitry_input/\").resolve()\n",
    "pti_render = path / \"pti_out\" / \"PTI_render\"\n",
    "post_c_path = pti_render / \"post_c.npy\"\n",
    "post_mp4_path = pti_render / \"post.mp4\""
   ]
  },
  {
   "cell_type": "markdown",
   "metadata": {},
   "source": [
    "# Training"
   ]
  },
  {
   "cell_type": "code",
   "execution_count": 30,
   "metadata": {},
   "outputs": [
    {
     "name": "stdout",
     "output_type": "stream",
     "text": [
      "/home/dmitry/clones/PanoHead-clostra/deps/neural-head-avatars\n"
     ]
    }
   ],
   "source": [
    "%cd ../deps/neural-head-avatars"
   ]
  },
  {
   "cell_type": "code",
   "execution_count": 42,
   "metadata": {},
   "outputs": [],
   "source": [
    "from argparse import ArgumentParser\n",
    "from configargparse import ArgumentParser as ConfigArgumentParser\n",
    "sys.path.insert(0, str(Path(\"../..\").resolve()))\n",
    "from distillation.data import PanoheadPostDataModule\n",
    "from distillation.model import NHAStaticTrainer"
   ]
  },
  {
   "cell_type": "code",
   "execution_count": 40,
   "metadata": {},
   "outputs": [],
   "source": [
    "from nha.util.general import dict_2_device, stack_dicts"
   ]
  },
  {
   "cell_type": "code",
   "execution_count": 42,
   "metadata": {},
   "outputs": [],
   "source": [
    "args = [\n",
    "    '--config', 'configs/optimize_avatar_mesh_guidance.ini', \n",
    "    '--default_root_dir', str(path / 'ds' / 'results'),\n",
    "    '--data_path', str(path / 'ds'),\n",
    "    '--pti_out_path', str(path / 'pti_out'),\n",
    "    '--load_threeddfa', str(path / 'dataset.json'),\n",
    "    '--gpus', '1',\n",
    "]\n",
    "\n",
    "parser = ArgumentParser()\n",
    "parser = NHAStaticTrainer.add_argparse_args(parser)\n",
    "parser = PanoheadPostDataModule.add_argparse_args(parser)\n",
    "parser = pl.Trainer.add_argparse_args(parser)\n",
    "\n",
    "parser = ConfigArgumentParser(parents=[parser], add_help=False)\n",
    "parser.add_argument('--config', required=True, is_config_file=True)\n",
    "parser.add_argument(\"--checkpoint_file\", type=str, required=False, default=\"\",\n",
    "                    help=\"checkpoint to load model from\")\n",
    "\n",
    "args = parser.parse_args() if args is None else parser.parse_args(args)\n",
    "args.replace_sampler_ddp = False\n",
    "args.load_flame = False\n",
    "args.load_camera = False\n",
    "# args.flame_lr = list(map(lambda x: x * 5, args.flame_lr))\n",
    "\n",
    "args_dict = vars(args)"
   ]
  },
  {
   "cell_type": "code",
   "execution_count": 43,
   "metadata": {},
   "outputs": [
    {
     "name": "stderr",
     "output_type": "stream",
     "text": [
      "/home/dmitry/.miniconda3/envs/panohead/lib/python3.9/site-packages/pytorch_lightning/utilities/distributed.py:51: UserWarning: ModelCheckpoint(save_last=True, monitor=None) is a redundant configuration. You can save the last checkpoint with ModelCheckpoint(save_top_k=None, monitor=None).\n",
      "  warnings.warn(*args, **kwargs)\n"
     ]
    }
   ],
   "source": [
    "nha_static = NHAStaticTrainer(**args_dict)\n",
    "data = PanoheadPostDataModule(**args_dict)\n",
    "data.setup()"
   ]
  },
  {
   "cell_type": "code",
   "execution_count": 47,
   "metadata": {},
   "outputs": [
    {
     "name": "stderr",
     "output_type": "stream",
     "text": [
      "GPU available: True, used: True\n",
      "TPU available: None, using: 0 TPU cores\n",
      "\n",
      "  | Name            | Type               | Params\n",
      "-------------------------------------------------------\n",
      "0 | _flame          | FlameHead          | 0     \n",
      "1 | _offset_mlp     | OffsetMLP          | 243 K \n",
      "2 | _normal_encoder | SirenNormalEncoder | 542 K \n",
      "3 | _texture        | TextureMLP         | 362 K \n",
      "4 | _explFeatures   | MultiTexture       | 4.5 M \n",
      "5 | _leaky_hinge    | LeakyHingeLoss     | 0     \n",
      "6 | _masked_L1      | MaskedCriterion    | 0     \n",
      "-------------------------------------------------------\n",
      "6.1 M     Trainable params\n",
      "0         Non-trainable params\n",
      "6.1 M     Total params\n",
      "24.360    Total estimated model params size (MB)\n"
     ]
    },
    {
     "data": {
      "application/json": {
       "ascii": false,
       "bar_format": null,
       "colour": null,
       "elapsed": 0.005376577377319336,
       "initial": 0,
       "n": 0,
       "ncols": null,
       "nrows": null,
       "postfix": null,
       "prefix": "Training",
       "rate": null,
       "total": null,
       "unit": "it",
       "unit_divisor": 1000,
       "unit_scale": false
      },
      "application/vnd.jupyter.widget-view+json": {
       "model_id": "c399de13db2845518a7324a9052d0ccc",
       "version_major": 2,
       "version_minor": 0
      },
      "text/plain": [
       "Training: 0it [00:00, ?it/s]"
      ]
     },
     "metadata": {},
     "output_type": "display_data"
    },
    {
     "data": {
      "application/json": {
       "ascii": false,
       "bar_format": null,
       "colour": null,
       "elapsed": 0.008543729782104492,
       "initial": 0,
       "n": 0,
       "ncols": null,
       "nrows": null,
       "postfix": null,
       "prefix": "Validating",
       "rate": null,
       "total": null,
       "unit": "it",
       "unit_divisor": 1000,
       "unit_scale": false
      },
      "application/vnd.jupyter.widget-view+json": {
       "model_id": "5f098cecbdab45e1bfebf12dcc750255",
       "version_major": 2,
       "version_minor": 0
      },
      "text/plain": [
       "Validating: 0it [00:00, ?it/s]"
      ]
     },
     "metadata": {},
     "output_type": "display_data"
    },
    {
     "data": {
      "application/json": {
       "ascii": false,
       "bar_format": null,
       "colour": null,
       "elapsed": 0.012080669403076172,
       "initial": 0,
       "n": 0,
       "ncols": null,
       "nrows": null,
       "postfix": null,
       "prefix": "Validating",
       "rate": null,
       "total": null,
       "unit": "it",
       "unit_divisor": 1000,
       "unit_scale": false
      },
      "application/vnd.jupyter.widget-view+json": {
       "model_id": "9b0b3ead31cb4e2b974f4de4a87f5307",
       "version_major": 2,
       "version_minor": 0
      },
      "text/plain": [
       "Validating: 0it [00:00, ?it/s]"
      ]
     },
     "metadata": {},
     "output_type": "display_data"
    },
    {
     "data": {
      "application/json": {
       "ascii": false,
       "bar_format": null,
       "colour": null,
       "elapsed": 0.007397890090942383,
       "initial": 0,
       "n": 0,
       "ncols": null,
       "nrows": null,
       "postfix": null,
       "prefix": "Validating",
       "rate": null,
       "total": null,
       "unit": "it",
       "unit_divisor": 1000,
       "unit_scale": false
      },
      "application/vnd.jupyter.widget-view+json": {
       "model_id": "7d3f6de9c77c4bb986eb366724a66a5d",
       "version_major": 2,
       "version_minor": 0
      },
      "text/plain": [
       "Validating: 0it [00:00, ?it/s]"
      ]
     },
     "metadata": {},
     "output_type": "display_data"
    },
    {
     "data": {
      "application/json": {
       "ascii": false,
       "bar_format": null,
       "colour": null,
       "elapsed": 0.00740814208984375,
       "initial": 0,
       "n": 0,
       "ncols": null,
       "nrows": null,
       "postfix": null,
       "prefix": "Validating",
       "rate": null,
       "total": null,
       "unit": "it",
       "unit_divisor": 1000,
       "unit_scale": false
      },
      "application/vnd.jupyter.widget-view+json": {
       "model_id": "f7aa98f3914e48d98859337d56bf13d3",
       "version_major": 2,
       "version_minor": 0
      },
      "text/plain": [
       "Validating: 0it [00:00, ?it/s]"
      ]
     },
     "metadata": {},
     "output_type": "display_data"
    },
    {
     "data": {
      "application/json": {
       "ascii": false,
       "bar_format": null,
       "colour": null,
       "elapsed": 0.0076751708984375,
       "initial": 0,
       "n": 0,
       "ncols": null,
       "nrows": null,
       "postfix": null,
       "prefix": "Validating",
       "rate": null,
       "total": null,
       "unit": "it",
       "unit_divisor": 1000,
       "unit_scale": false
      },
      "application/vnd.jupyter.widget-view+json": {
       "model_id": "6b71f22332e04d6a8a8b40371e08bcc7",
       "version_major": 2,
       "version_minor": 0
      },
      "text/plain": [
       "Validating: 0it [00:00, ?it/s]"
      ]
     },
     "metadata": {},
     "output_type": "display_data"
    },
    {
     "data": {
      "application/json": {
       "ascii": false,
       "bar_format": null,
       "colour": null,
       "elapsed": 0.007765531539916992,
       "initial": 0,
       "n": 0,
       "ncols": null,
       "nrows": null,
       "postfix": null,
       "prefix": "Validating",
       "rate": null,
       "total": null,
       "unit": "it",
       "unit_divisor": 1000,
       "unit_scale": false
      },
      "application/vnd.jupyter.widget-view+json": {
       "model_id": "4177f374ed5046fd864f98e062f068ba",
       "version_major": 2,
       "version_minor": 0
      },
      "text/plain": [
       "Validating: 0it [00:00, ?it/s]"
      ]
     },
     "metadata": {},
     "output_type": "display_data"
    },
    {
     "data": {
      "application/json": {
       "ascii": false,
       "bar_format": null,
       "colour": null,
       "elapsed": 0.007700443267822266,
       "initial": 0,
       "n": 0,
       "ncols": null,
       "nrows": null,
       "postfix": null,
       "prefix": "Validating",
       "rate": null,
       "total": null,
       "unit": "it",
       "unit_divisor": 1000,
       "unit_scale": false
      },
      "application/vnd.jupyter.widget-view+json": {
       "model_id": "1e23af08102843399abf73ca6b7f1502",
       "version_major": 2,
       "version_minor": 0
      },
      "text/plain": [
       "Validating: 0it [00:00, ?it/s]"
      ]
     },
     "metadata": {},
     "output_type": "display_data"
    }
   ],
   "source": [
    "from pytorch_lightning.loggers import TensorBoardLogger\n",
    "experiment_logger = TensorBoardLogger(args_dict[\"default_root_dir\"],\n",
    "                                          name=\"lightning_logs\")\n",
    "trainer = pl.Trainer.from_argparse_args(args, callbacks=nha_static.callbacks, max_epochs=1000, logger=experiment_logger)\n",
    "\n",
    "trainer.fit(\n",
    "    nha_static,\n",
    "    train_dataloader=data.train_dataloader(batch_size=1),\n",
    "    val_dataloaders=data.val_dataloader(batch_size=3)\n",
    ")"
   ]
  },
  {
   "cell_type": "code",
   "execution_count": 46,
   "metadata": {},
   "outputs": [],
   "source": [
    "batch = next(iter(data.train_dataloader(3)))\n",
    "batch = dict_2_device(batch, nha_static.device)"
   ]
  },
  {
   "cell_type": "code",
   "execution_count": 47,
   "metadata": {},
   "outputs": [],
   "source": [
    "nha_static.train()\n",
    "nha_static.to('cuda')\n",
    "batch = nha_static.prepare_batch(batch)\n",
    "loss, loss_dict = nha_static.flame_step(batch)"
   ]
  },
  {
   "cell_type": "code",
   "execution_count": 48,
   "metadata": {},
   "outputs": [],
   "source": [
    "opt = nha_static.configure_optimizers()"
   ]
  },
  {
   "cell_type": "code",
   "execution_count": 51,
   "metadata": {},
   "outputs": [],
   "source": [
    "loss.backward()"
   ]
  },
  {
   "cell_type": "code",
   "execution_count": 53,
   "metadata": {},
   "outputs": [],
   "source": [
    "opt.step()"
   ]
  },
  {
   "cell_type": "code",
   "execution_count": 56,
   "metadata": {},
   "outputs": [
    {
     "data": {
      "text/plain": [
       "Parameter containing:\n",
       "tensor([[-3.3870e-04, -2.0333e-04, -1.5875e-04,  4.7671e-05, -1.4735e-04,\n",
       "          4.1756e-06,  3.3654e-06, -1.4169e-04, -1.6423e-04, -8.9856e-05,\n",
       "         -1.0247e-05,  1.5844e-05,  5.2633e-05,  5.8535e-10,  2.1190e-05,\n",
       "         -2.0835e-05,  2.1543e-05, -3.4704e-05,  1.3494e-05, -7.3948e-06,\n",
       "          2.2493e-06, -9.7095e-06, -2.1290e-05,  7.8369e-06, -3.9857e-06,\n",
       "         -2.5353e-05,  8.2815e-06,  2.0309e-06,  1.0677e-06, -5.3065e-06,\n",
       "          1.1174e-06,  4.5276e-06, -1.3084e-05,  2.6055e-06,  7.6864e-06,\n",
       "         -1.4949e-05,  1.1948e-06,  6.7290e-06, -8.4470e-06,  1.0327e-05,\n",
       "         -5.4414e-06,  1.0377e-05, -4.0657e-07,  4.0605e-06, -1.5834e-05,\n",
       "         -2.5066e-06, -8.8227e-06,  2.6279e-06,  2.6711e-06,  1.9540e-06,\n",
       "          6.3494e-06,  1.3083e-06, -2.5024e-06, -1.2698e-06, -3.2463e-06,\n",
       "          6.1304e-06,  3.4501e-06, -8.2521e-06, -2.9414e-06, -4.3097e-06,\n",
       "          2.8530e-06,  1.0158e-05,  3.7476e-06,  3.8932e-06, -1.0727e-05,\n",
       "          8.9288e-06, -8.3134e-06, -2.2758e-06,  1.0291e-05, -9.9760e-07,\n",
       "          4.2081e-06,  5.3130e-06,  7.1406e-06, -5.0095e-06,  7.7084e-07,\n",
       "          4.4934e-06,  1.6706e-06, -6.8769e-07, -4.1036e-07,  4.1916e-06,\n",
       "          4.0000e-06,  2.0668e-06,  4.4144e-07, -6.0984e-06,  2.0716e-06,\n",
       "          3.4256e-06, -2.4190e-06, -1.8891e-07,  2.1839e-06, -3.7028e-06,\n",
       "          2.1140e-06,  8.9835e-07, -3.3897e-06,  4.2069e-07,  2.2346e-06,\n",
       "         -4.9647e-06, -1.4230e-06,  4.3020e-06,  1.9918e-06,  1.2971e-07]],\n",
       "       requires_grad=True)"
      ]
     },
     "execution_count": 56,
     "metadata": {},
     "output_type": "execute_result"
    }
   ],
   "source": [
    "nha_static._expr"
   ]
  },
  {
   "cell_type": "markdown",
   "metadata": {},
   "source": [
    "# Visualizations"
   ]
  },
  {
   "cell_type": "code",
   "execution_count": 100,
   "metadata": {},
   "outputs": [],
   "source": [
    "def camera_frustum(c2w, K, depth=1):\n",
    "    camera_origin = c2w[:3, 3]\n",
    "    ndc_corners = np.array([\n",
    "        [0, 1, 1],  # Bottom left\n",
    "        [0, 0, 1],   # Bottom right\n",
    "        [1, 0, 1],    # Top right\n",
    "        [1, 1, 1]    # Top left\n",
    "    ])\n",
    "    screen_corners_camera_space = np.dot(np.linalg.inv(K), ndc_corners.T).T\n",
    "    screen_corners_camera_space *= depth\n",
    "    screen_corners_camera_space = np.concatenate([screen_corners_camera_space, np.ones((4, 1))], axis=1)\n",
    "    screen_corners_world_space = np.dot(c2w, screen_corners_camera_space.T).T[:, :3]\n",
    "    frustum_points = np.vstack([camera_origin, screen_corners_world_space])\n",
    "    \n",
    "    return frustum_points"
   ]
  },
  {
   "cell_type": "code",
   "execution_count": 101,
   "metadata": {},
   "outputs": [],
   "source": [
    "import plotly.graph_objects as go"
   ]
  },
  {
   "cell_type": "code",
   "execution_count": 102,
   "metadata": {},
   "outputs": [],
   "source": [
    "def add_camera_frustum_trace(fig, c2w, K, depth=1):\n",
    "    frustum_points = camera_frustum(c2w, K, depth)\n",
    "    \n",
    "    # Add the frustum lines\n",
    "    for i in range(1, 5):\n",
    "        fig.add_trace(go.Scatter3d(x=[frustum_points[0, 0], frustum_points[i, 0]],\n",
    "                                y=[frustum_points[0, 1], frustum_points[i, 1]],\n",
    "                                z=[frustum_points[0, 2], frustum_points[i, 2]],\n",
    "                                mode='lines+markers',\n",
    "                                line=dict(color='blue', width=2),\n",
    "                                marker=dict(size=4, color='red')))\n",
    "\n",
    "    # Connect the corners of the frustum\n",
    "    corner_indices = [1, 2, 3, 4, 1]\n",
    "    fig.add_trace(go.Scatter3d(x=frustum_points[corner_indices, 0],\n",
    "                            y=frustum_points[corner_indices, 1],\n",
    "                            z=frustum_points[corner_indices, 2],\n",
    "                            mode='lines',\n",
    "                            line=dict(color='blue', width=2, dash='dash')))"
   ]
  },
  {
   "cell_type": "code",
   "execution_count": 105,
   "metadata": {},
   "outputs": [
    {
     "data": {
      "application/vnd.plotly.v1+json": {
       "config": {
        "plotlyServerURL": "https://plot.ly"
       },
       "data": [
        {
         "marker": {
          "opacity": 0.8,
          "size": 5
         },
         "mode": "markers",
         "type": "scatter3d",
         "x": [
          -0.17241809,
          -0.16751012,
          -0.1577067,
          -0.14784907,
          -0.13449277,
          -0.111302696,
          -0.085022636,
          -0.052418068,
          -0.003769257,
          0.045276735,
          0.07836484,
          0.10515998,
          0.12890588,
          0.14286931,
          0.15258127,
          0.16186486,
          0.16709335,
          -0.12973252,
          -0.11045076,
          -0.0870393,
          -0.064896464,
          -0.044974238,
          0.039491683,
          0.059776917,
          0.082294054,
          0.10660709,
          0.12598534,
          -0.0023560647,
          -0.0022580065,
          -0.0022299013,
          -0.0023807946,
          -0.02905335,
          -0.01823384,
          -0.0032919925,
          0.011614461,
          0.02219776,
          -0.10015096,
          -0.08534022,
          -0.06481583,
          -0.046188574,
          -0.06328386,
          -0.084676914,
          0.03962413,
          0.05873499,
          0.07994726,
          0.09538006,
          0.079328544,
          0.05736849,
          -0.05667755,
          -0.038460128,
          -0.016170405,
          -0.0037550225,
          0.008779543,
          0.031089216,
          0.04760196,
          0.030307835,
          0.013984072,
          -0.0048264745,
          -0.023041924,
          -0.038236983,
          -0.051151566,
          -0.019677145,
          -0.0043567335,
          0.011226949,
          0.043726765,
          0.010815099,
          -0.005210135,
          -0.020649644
         ],
         "y": [
          0.021939155,
          -0.027278623,
          -0.07215564,
          -0.11296302,
          -0.15712138,
          -0.1913104,
          -0.21203774,
          -0.23098123,
          -0.2412388,
          -0.22824936,
          -0.20888494,
          -0.18711232,
          -0.15262929,
          -0.10873208,
          -0.06838675,
          -0.024858177,
          0.022888118,
          0.07320117,
          0.089046545,
          0.09320666,
          0.091213815,
          0.085614555,
          0.085988216,
          0.091794826,
          0.09390902,
          0.08970864,
          0.07314276,
          0.03617893,
          0.007189537,
          -0.021025088,
          -0.04494497,
          -0.068930455,
          -0.07014593,
          -0.07262165,
          -0.070166476,
          -0.0686228,
          0.037077162,
          0.046882365,
          0.046741355,
          0.03565416,
          0.03036857,
          0.029513674,
          0.035861183,
          0.04709105,
          0.046896003,
          0.036952026,
          0.030139552,
          0.030815998,
          -0.13248384,
          -0.114484556,
          -0.10210128,
          -0.10404385,
          -0.10195159,
          -0.113811515,
          -0.13240255,
          -0.14773376,
          -0.15752727,
          -0.15971339,
          -0.15761131,
          -0.14792547,
          -0.13178629,
          -0.11962303,
          -0.11787469,
          -0.11941096,
          -0.13166465,
          -0.1383261,
          -0.1398742,
          -0.13797005
         ],
         "z": [
          -0.00521281,
          -0.00054834393,
          0.0011845657,
          0.0075703207,
          0.025812106,
          0.058148228,
          0.097724885,
          0.13059826,
          0.13714793,
          0.116516024,
          0.07545766,
          0.03066533,
          -0.005341032,
          -0.02452987,
          -0.032525986,
          -0.03597625,
          -0.040505126,
          0.13518201,
          0.15826572,
          0.17204212,
          0.17858668,
          0.17969337,
          0.16582087,
          0.15771592,
          0.14395969,
          0.12364367,
          0.09675969,
          0.17870338,
          0.19776817,
          0.21705303,
          0.22124892,
          0.1803739,
          0.18829165,
          0.19038375,
          0.18408683,
          0.17316844,
          0.14404385,
          0.15964098,
          0.156023,
          0.14715348,
          0.15492922,
          0.15400045,
          0.13373177,
          0.13599764,
          0.13730983,
          0.11405516,
          0.12839532,
          0.13602391,
          0.16411525,
          0.1855099,
          0.19492976,
          0.19506533,
          0.19258931,
          0.17826127,
          0.15117349,
          0.17279562,
          0.18234573,
          0.18554984,
          0.18566939,
          0.17987804,
          0.16504851,
          0.18464504,
          0.18701987,
          0.18153712,
          0.15364143,
          0.18111102,
          0.18357842,
          0.18301038
         ]
        },
        {
         "marker": {
          "opacity": 0.8,
          "size": 5
         },
         "mode": "markers",
         "type": "scatter3d",
         "x": [
          -0.16898642,
          -0.16617794,
          -0.1603705,
          -0.15235317,
          -0.13713475,
          -0.11287871,
          -0.086497605,
          -0.047792137,
          -0.002876144,
          0.035869192,
          0.07230054,
          0.095037594,
          0.113846935,
          0.1238593,
          0.13138147,
          0.13699377,
          0.1415854,
          -0.13435999,
          -0.11559394,
          -0.0812152,
          -0.048087493,
          -0.019614024,
          0.020084389,
          0.04763178,
          0.078376584,
          0.10770541,
          0.12162111,
          0.0014087217,
          0.002449085,
          0.0037272666,
          0.005096059,
          -0.026761273,
          -0.012102553,
          0.002150422,
          0.015414085,
          0.028575331,
          -0.10013026,
          -0.07899464,
          -0.058211863,
          -0.039357677,
          -0.05835412,
          -0.07645647,
          0.035192966,
          0.055023316,
          0.075838,
          0.09370042,
          0.07280458,
          0.05519665,
          -0.053825524,
          -0.034919277,
          -0.01050283,
          0.0027971321,
          0.015799986,
          0.03686235,
          0.049463414,
          0.036238343,
          0.015767746,
          -0.00059112074,
          -0.01763964,
          -0.040218465,
          -0.052578643,
          -0.0108092865,
          0.0015236196,
          0.013395671,
          0.048811145,
          0.011262554,
          -0.0019845124,
          -0.015474664
         ],
         "y": [
          0.015306886,
          -0.026643235,
          -0.07350232,
          -0.11101349,
          -0.14800765,
          -0.1854059,
          -0.22979477,
          -0.26235417,
          -0.27542213,
          -0.26090774,
          -0.22842944,
          -0.18394974,
          -0.1459114,
          -0.107987456,
          -0.0714313,
          -0.024083883,
          0.017956182,
          0.05013913,
          0.08768441,
          0.099444315,
          0.09721484,
          0.087067574,
          0.087512404,
          0.09775517,
          0.09960437,
          0.08918242,
          0.053482816,
          0.059030626,
          0.037406433,
          0.017004909,
          -0.004503965,
          -0.0361578,
          -0.040204413,
          -0.04253806,
          -0.04053101,
          -0.036674276,
          0.04151034,
          0.0572196,
          0.056376554,
          0.04342749,
          0.03733633,
          0.03548726,
          0.0437579,
          0.056704365,
          0.05812536,
          0.04234399,
          0.035903133,
          0.037168697,
          -0.14616744,
          -0.09819009,
          -0.08230566,
          -0.08143815,
          -0.082920395,
          -0.09972382,
          -0.14501351,
          -0.18525209,
          -0.19729637,
          -0.20115432,
          -0.19791476,
          -0.18712306,
          -0.14795253,
          -0.0986901,
          -0.09633035,
          -0.09982459,
          -0.14453916,
          -0.1841602,
          -0.18497013,
          -0.18443619
         ],
         "z": [
          0.011347762,
          0.010315137,
          0.011083029,
          0.025240235,
          0.048015263,
          0.07675545,
          0.08985075,
          0.100378945,
          0.09722529,
          0.09387268,
          0.07764809,
          0.061260037,
          0.030245842,
          0.005722763,
          -0.008790658,
          -0.009194342,
          -0.00963912,
          0.10104984,
          0.12933972,
          0.15454607,
          0.16599034,
          0.16978368,
          0.16765317,
          0.1609516,
          0.14447892,
          0.11213937,
          0.08135463,
          0.17850074,
          0.19877201,
          0.21884876,
          0.23417924,
          0.19450334,
          0.20056964,
          0.20419577,
          0.19918345,
          0.19113356,
          0.13708423,
          0.153189,
          0.1530859,
          0.14753027,
          0.15352379,
          0.1530481,
          0.14401212,
          0.14660995,
          0.14360403,
          0.12424226,
          0.14405204,
          0.14695221,
          0.15112188,
          0.19108886,
          0.2086544,
          0.20996058,
          0.2069531,
          0.18598863,
          0.14483325,
          0.15134147,
          0.16183922,
          0.16425516,
          0.16375794,
          0.15595204,
          0.14793873,
          0.18812901,
          0.19063762,
          0.18640609,
          0.1446823,
          0.14903304,
          0.14908129,
          0.15061113
         ]
        }
       ],
       "layout": {
        "template": {
         "data": {
          "bar": [
           {
            "error_x": {
             "color": "#2a3f5f"
            },
            "error_y": {
             "color": "#2a3f5f"
            },
            "marker": {
             "line": {
              "color": "#E5ECF6",
              "width": 0.5
             },
             "pattern": {
              "fillmode": "overlay",
              "size": 10,
              "solidity": 0.2
             }
            },
            "type": "bar"
           }
          ],
          "barpolar": [
           {
            "marker": {
             "line": {
              "color": "#E5ECF6",
              "width": 0.5
             },
             "pattern": {
              "fillmode": "overlay",
              "size": 10,
              "solidity": 0.2
             }
            },
            "type": "barpolar"
           }
          ],
          "carpet": [
           {
            "aaxis": {
             "endlinecolor": "#2a3f5f",
             "gridcolor": "white",
             "linecolor": "white",
             "minorgridcolor": "white",
             "startlinecolor": "#2a3f5f"
            },
            "baxis": {
             "endlinecolor": "#2a3f5f",
             "gridcolor": "white",
             "linecolor": "white",
             "minorgridcolor": "white",
             "startlinecolor": "#2a3f5f"
            },
            "type": "carpet"
           }
          ],
          "choropleth": [
           {
            "colorbar": {
             "outlinewidth": 0,
             "ticks": ""
            },
            "type": "choropleth"
           }
          ],
          "contour": [
           {
            "colorbar": {
             "outlinewidth": 0,
             "ticks": ""
            },
            "colorscale": [
             [
              0,
              "#0d0887"
             ],
             [
              0.1111111111111111,
              "#46039f"
             ],
             [
              0.2222222222222222,
              "#7201a8"
             ],
             [
              0.3333333333333333,
              "#9c179e"
             ],
             [
              0.4444444444444444,
              "#bd3786"
             ],
             [
              0.5555555555555556,
              "#d8576b"
             ],
             [
              0.6666666666666666,
              "#ed7953"
             ],
             [
              0.7777777777777778,
              "#fb9f3a"
             ],
             [
              0.8888888888888888,
              "#fdca26"
             ],
             [
              1,
              "#f0f921"
             ]
            ],
            "type": "contour"
           }
          ],
          "contourcarpet": [
           {
            "colorbar": {
             "outlinewidth": 0,
             "ticks": ""
            },
            "type": "contourcarpet"
           }
          ],
          "heatmap": [
           {
            "colorbar": {
             "outlinewidth": 0,
             "ticks": ""
            },
            "colorscale": [
             [
              0,
              "#0d0887"
             ],
             [
              0.1111111111111111,
              "#46039f"
             ],
             [
              0.2222222222222222,
              "#7201a8"
             ],
             [
              0.3333333333333333,
              "#9c179e"
             ],
             [
              0.4444444444444444,
              "#bd3786"
             ],
             [
              0.5555555555555556,
              "#d8576b"
             ],
             [
              0.6666666666666666,
              "#ed7953"
             ],
             [
              0.7777777777777778,
              "#fb9f3a"
             ],
             [
              0.8888888888888888,
              "#fdca26"
             ],
             [
              1,
              "#f0f921"
             ]
            ],
            "type": "heatmap"
           }
          ],
          "heatmapgl": [
           {
            "colorbar": {
             "outlinewidth": 0,
             "ticks": ""
            },
            "colorscale": [
             [
              0,
              "#0d0887"
             ],
             [
              0.1111111111111111,
              "#46039f"
             ],
             [
              0.2222222222222222,
              "#7201a8"
             ],
             [
              0.3333333333333333,
              "#9c179e"
             ],
             [
              0.4444444444444444,
              "#bd3786"
             ],
             [
              0.5555555555555556,
              "#d8576b"
             ],
             [
              0.6666666666666666,
              "#ed7953"
             ],
             [
              0.7777777777777778,
              "#fb9f3a"
             ],
             [
              0.8888888888888888,
              "#fdca26"
             ],
             [
              1,
              "#f0f921"
             ]
            ],
            "type": "heatmapgl"
           }
          ],
          "histogram": [
           {
            "marker": {
             "pattern": {
              "fillmode": "overlay",
              "size": 10,
              "solidity": 0.2
             }
            },
            "type": "histogram"
           }
          ],
          "histogram2d": [
           {
            "colorbar": {
             "outlinewidth": 0,
             "ticks": ""
            },
            "colorscale": [
             [
              0,
              "#0d0887"
             ],
             [
              0.1111111111111111,
              "#46039f"
             ],
             [
              0.2222222222222222,
              "#7201a8"
             ],
             [
              0.3333333333333333,
              "#9c179e"
             ],
             [
              0.4444444444444444,
              "#bd3786"
             ],
             [
              0.5555555555555556,
              "#d8576b"
             ],
             [
              0.6666666666666666,
              "#ed7953"
             ],
             [
              0.7777777777777778,
              "#fb9f3a"
             ],
             [
              0.8888888888888888,
              "#fdca26"
             ],
             [
              1,
              "#f0f921"
             ]
            ],
            "type": "histogram2d"
           }
          ],
          "histogram2dcontour": [
           {
            "colorbar": {
             "outlinewidth": 0,
             "ticks": ""
            },
            "colorscale": [
             [
              0,
              "#0d0887"
             ],
             [
              0.1111111111111111,
              "#46039f"
             ],
             [
              0.2222222222222222,
              "#7201a8"
             ],
             [
              0.3333333333333333,
              "#9c179e"
             ],
             [
              0.4444444444444444,
              "#bd3786"
             ],
             [
              0.5555555555555556,
              "#d8576b"
             ],
             [
              0.6666666666666666,
              "#ed7953"
             ],
             [
              0.7777777777777778,
              "#fb9f3a"
             ],
             [
              0.8888888888888888,
              "#fdca26"
             ],
             [
              1,
              "#f0f921"
             ]
            ],
            "type": "histogram2dcontour"
           }
          ],
          "mesh3d": [
           {
            "colorbar": {
             "outlinewidth": 0,
             "ticks": ""
            },
            "type": "mesh3d"
           }
          ],
          "parcoords": [
           {
            "line": {
             "colorbar": {
              "outlinewidth": 0,
              "ticks": ""
             }
            },
            "type": "parcoords"
           }
          ],
          "pie": [
           {
            "automargin": true,
            "type": "pie"
           }
          ],
          "scatter": [
           {
            "fillpattern": {
             "fillmode": "overlay",
             "size": 10,
             "solidity": 0.2
            },
            "type": "scatter"
           }
          ],
          "scatter3d": [
           {
            "line": {
             "colorbar": {
              "outlinewidth": 0,
              "ticks": ""
             }
            },
            "marker": {
             "colorbar": {
              "outlinewidth": 0,
              "ticks": ""
             }
            },
            "type": "scatter3d"
           }
          ],
          "scattercarpet": [
           {
            "marker": {
             "colorbar": {
              "outlinewidth": 0,
              "ticks": ""
             }
            },
            "type": "scattercarpet"
           }
          ],
          "scattergeo": [
           {
            "marker": {
             "colorbar": {
              "outlinewidth": 0,
              "ticks": ""
             }
            },
            "type": "scattergeo"
           }
          ],
          "scattergl": [
           {
            "marker": {
             "colorbar": {
              "outlinewidth": 0,
              "ticks": ""
             }
            },
            "type": "scattergl"
           }
          ],
          "scattermapbox": [
           {
            "marker": {
             "colorbar": {
              "outlinewidth": 0,
              "ticks": ""
             }
            },
            "type": "scattermapbox"
           }
          ],
          "scatterpolar": [
           {
            "marker": {
             "colorbar": {
              "outlinewidth": 0,
              "ticks": ""
             }
            },
            "type": "scatterpolar"
           }
          ],
          "scatterpolargl": [
           {
            "marker": {
             "colorbar": {
              "outlinewidth": 0,
              "ticks": ""
             }
            },
            "type": "scatterpolargl"
           }
          ],
          "scatterternary": [
           {
            "marker": {
             "colorbar": {
              "outlinewidth": 0,
              "ticks": ""
             }
            },
            "type": "scatterternary"
           }
          ],
          "surface": [
           {
            "colorbar": {
             "outlinewidth": 0,
             "ticks": ""
            },
            "colorscale": [
             [
              0,
              "#0d0887"
             ],
             [
              0.1111111111111111,
              "#46039f"
             ],
             [
              0.2222222222222222,
              "#7201a8"
             ],
             [
              0.3333333333333333,
              "#9c179e"
             ],
             [
              0.4444444444444444,
              "#bd3786"
             ],
             [
              0.5555555555555556,
              "#d8576b"
             ],
             [
              0.6666666666666666,
              "#ed7953"
             ],
             [
              0.7777777777777778,
              "#fb9f3a"
             ],
             [
              0.8888888888888888,
              "#fdca26"
             ],
             [
              1,
              "#f0f921"
             ]
            ],
            "type": "surface"
           }
          ],
          "table": [
           {
            "cells": {
             "fill": {
              "color": "#EBF0F8"
             },
             "line": {
              "color": "white"
             }
            },
            "header": {
             "fill": {
              "color": "#C8D4E3"
             },
             "line": {
              "color": "white"
             }
            },
            "type": "table"
           }
          ]
         },
         "layout": {
          "annotationdefaults": {
           "arrowcolor": "#2a3f5f",
           "arrowhead": 0,
           "arrowwidth": 1
          },
          "autotypenumbers": "strict",
          "coloraxis": {
           "colorbar": {
            "outlinewidth": 0,
            "ticks": ""
           }
          },
          "colorscale": {
           "diverging": [
            [
             0,
             "#8e0152"
            ],
            [
             0.1,
             "#c51b7d"
            ],
            [
             0.2,
             "#de77ae"
            ],
            [
             0.3,
             "#f1b6da"
            ],
            [
             0.4,
             "#fde0ef"
            ],
            [
             0.5,
             "#f7f7f7"
            ],
            [
             0.6,
             "#e6f5d0"
            ],
            [
             0.7,
             "#b8e186"
            ],
            [
             0.8,
             "#7fbc41"
            ],
            [
             0.9,
             "#4d9221"
            ],
            [
             1,
             "#276419"
            ]
           ],
           "sequential": [
            [
             0,
             "#0d0887"
            ],
            [
             0.1111111111111111,
             "#46039f"
            ],
            [
             0.2222222222222222,
             "#7201a8"
            ],
            [
             0.3333333333333333,
             "#9c179e"
            ],
            [
             0.4444444444444444,
             "#bd3786"
            ],
            [
             0.5555555555555556,
             "#d8576b"
            ],
            [
             0.6666666666666666,
             "#ed7953"
            ],
            [
             0.7777777777777778,
             "#fb9f3a"
            ],
            [
             0.8888888888888888,
             "#fdca26"
            ],
            [
             1,
             "#f0f921"
            ]
           ],
           "sequentialminus": [
            [
             0,
             "#0d0887"
            ],
            [
             0.1111111111111111,
             "#46039f"
            ],
            [
             0.2222222222222222,
             "#7201a8"
            ],
            [
             0.3333333333333333,
             "#9c179e"
            ],
            [
             0.4444444444444444,
             "#bd3786"
            ],
            [
             0.5555555555555556,
             "#d8576b"
            ],
            [
             0.6666666666666666,
             "#ed7953"
            ],
            [
             0.7777777777777778,
             "#fb9f3a"
            ],
            [
             0.8888888888888888,
             "#fdca26"
            ],
            [
             1,
             "#f0f921"
            ]
           ]
          },
          "colorway": [
           "#636efa",
           "#EF553B",
           "#00cc96",
           "#ab63fa",
           "#FFA15A",
           "#19d3f3",
           "#FF6692",
           "#B6E880",
           "#FF97FF",
           "#FECB52"
          ],
          "font": {
           "color": "#2a3f5f"
          },
          "geo": {
           "bgcolor": "white",
           "lakecolor": "white",
           "landcolor": "#E5ECF6",
           "showlakes": true,
           "showland": true,
           "subunitcolor": "white"
          },
          "hoverlabel": {
           "align": "left"
          },
          "hovermode": "closest",
          "mapbox": {
           "style": "light"
          },
          "paper_bgcolor": "white",
          "plot_bgcolor": "#E5ECF6",
          "polar": {
           "angularaxis": {
            "gridcolor": "white",
            "linecolor": "white",
            "ticks": ""
           },
           "bgcolor": "#E5ECF6",
           "radialaxis": {
            "gridcolor": "white",
            "linecolor": "white",
            "ticks": ""
           }
          },
          "scene": {
           "xaxis": {
            "backgroundcolor": "#E5ECF6",
            "gridcolor": "white",
            "gridwidth": 2,
            "linecolor": "white",
            "showbackground": true,
            "ticks": "",
            "zerolinecolor": "white"
           },
           "yaxis": {
            "backgroundcolor": "#E5ECF6",
            "gridcolor": "white",
            "gridwidth": 2,
            "linecolor": "white",
            "showbackground": true,
            "ticks": "",
            "zerolinecolor": "white"
           },
           "zaxis": {
            "backgroundcolor": "#E5ECF6",
            "gridcolor": "white",
            "gridwidth": 2,
            "linecolor": "white",
            "showbackground": true,
            "ticks": "",
            "zerolinecolor": "white"
           }
          },
          "shapedefaults": {
           "line": {
            "color": "#2a3f5f"
           }
          },
          "ternary": {
           "aaxis": {
            "gridcolor": "white",
            "linecolor": "white",
            "ticks": ""
           },
           "baxis": {
            "gridcolor": "white",
            "linecolor": "white",
            "ticks": ""
           },
           "bgcolor": "#E5ECF6",
           "caxis": {
            "gridcolor": "white",
            "linecolor": "white",
            "ticks": ""
           }
          },
          "title": {
           "x": 0.05
          },
          "xaxis": {
           "automargin": true,
           "gridcolor": "white",
           "linecolor": "white",
           "ticks": "",
           "title": {
            "standoff": 15
           },
           "zerolinecolor": "white",
           "zerolinewidth": 2
          },
          "yaxis": {
           "automargin": true,
           "gridcolor": "white",
           "linecolor": "white",
           "ticks": "",
           "title": {
            "standoff": 15
           },
           "zerolinecolor": "white",
           "zerolinewidth": 2
          }
         }
        }
       }
      },
      "text/html": [
       "<div>                            <div id=\"e1368303-e1b6-45e7-adca-1d7fc5aeac8c\" class=\"plotly-graph-div\" style=\"height:525px; width:100%;\"></div>            <script type=\"text/javascript\">                require([\"plotly\"], function(Plotly) {                    window.PLOTLYENV=window.PLOTLYENV || {};                                    if (document.getElementById(\"e1368303-e1b6-45e7-adca-1d7fc5aeac8c\")) {                    Plotly.newPlot(                        \"e1368303-e1b6-45e7-adca-1d7fc5aeac8c\",                        [{\"marker\":{\"opacity\":0.8,\"size\":5},\"mode\":\"markers\",\"x\":[-0.17241809,-0.16751012,-0.1577067,-0.14784907,-0.13449277,-0.111302696,-0.085022636,-0.052418068,-0.003769257,0.045276735,0.07836484,0.10515998,0.12890588,0.14286931,0.15258127,0.16186486,0.16709335,-0.12973252,-0.11045076,-0.0870393,-0.064896464,-0.044974238,0.039491683,0.059776917,0.082294054,0.10660709,0.12598534,-0.0023560647,-0.0022580065,-0.0022299013,-0.0023807946,-0.02905335,-0.01823384,-0.0032919925,0.011614461,0.02219776,-0.10015096,-0.08534022,-0.06481583,-0.046188574,-0.06328386,-0.084676914,0.03962413,0.05873499,0.07994726,0.09538006,0.079328544,0.05736849,-0.05667755,-0.038460128,-0.016170405,-0.0037550225,0.008779543,0.031089216,0.04760196,0.030307835,0.013984072,-0.0048264745,-0.023041924,-0.038236983,-0.051151566,-0.019677145,-0.0043567335,0.011226949,0.043726765,0.010815099,-0.005210135,-0.020649644],\"y\":[0.021939155,-0.027278623,-0.07215564,-0.11296302,-0.15712138,-0.1913104,-0.21203774,-0.23098123,-0.2412388,-0.22824936,-0.20888494,-0.18711232,-0.15262929,-0.10873208,-0.06838675,-0.024858177,0.022888118,0.07320117,0.089046545,0.09320666,0.091213815,0.085614555,0.085988216,0.091794826,0.09390902,0.08970864,0.07314276,0.03617893,0.007189537,-0.021025088,-0.04494497,-0.068930455,-0.07014593,-0.07262165,-0.070166476,-0.0686228,0.037077162,0.046882365,0.046741355,0.03565416,0.03036857,0.029513674,0.035861183,0.04709105,0.046896003,0.036952026,0.030139552,0.030815998,-0.13248384,-0.114484556,-0.10210128,-0.10404385,-0.10195159,-0.113811515,-0.13240255,-0.14773376,-0.15752727,-0.15971339,-0.15761131,-0.14792547,-0.13178629,-0.11962303,-0.11787469,-0.11941096,-0.13166465,-0.1383261,-0.1398742,-0.13797005],\"z\":[-0.00521281,-0.00054834393,0.0011845657,0.0075703207,0.025812106,0.058148228,0.097724885,0.13059826,0.13714793,0.116516024,0.07545766,0.03066533,-0.005341032,-0.02452987,-0.032525986,-0.03597625,-0.040505126,0.13518201,0.15826572,0.17204212,0.17858668,0.17969337,0.16582087,0.15771592,0.14395969,0.12364367,0.09675969,0.17870338,0.19776817,0.21705303,0.22124892,0.1803739,0.18829165,0.19038375,0.18408683,0.17316844,0.14404385,0.15964098,0.156023,0.14715348,0.15492922,0.15400045,0.13373177,0.13599764,0.13730983,0.11405516,0.12839532,0.13602391,0.16411525,0.1855099,0.19492976,0.19506533,0.19258931,0.17826127,0.15117349,0.17279562,0.18234573,0.18554984,0.18566939,0.17987804,0.16504851,0.18464504,0.18701987,0.18153712,0.15364143,0.18111102,0.18357842,0.18301038],\"type\":\"scatter3d\"},{\"marker\":{\"opacity\":0.8,\"size\":5},\"mode\":\"markers\",\"x\":[-0.16898642,-0.16617794,-0.1603705,-0.15235317,-0.13713475,-0.11287871,-0.086497605,-0.047792137,-0.002876144,0.035869192,0.07230054,0.095037594,0.113846935,0.1238593,0.13138147,0.13699377,0.1415854,-0.13435999,-0.11559394,-0.0812152,-0.048087493,-0.019614024,0.020084389,0.04763178,0.078376584,0.10770541,0.12162111,0.0014087217,0.002449085,0.0037272666,0.005096059,-0.026761273,-0.012102553,0.002150422,0.015414085,0.028575331,-0.10013026,-0.07899464,-0.058211863,-0.039357677,-0.05835412,-0.07645647,0.035192966,0.055023316,0.075838,0.09370042,0.07280458,0.05519665,-0.053825524,-0.034919277,-0.01050283,0.0027971321,0.015799986,0.03686235,0.049463414,0.036238343,0.015767746,-0.00059112074,-0.01763964,-0.040218465,-0.052578643,-0.0108092865,0.0015236196,0.013395671,0.048811145,0.011262554,-0.0019845124,-0.015474664],\"y\":[0.015306886,-0.026643235,-0.07350232,-0.11101349,-0.14800765,-0.1854059,-0.22979477,-0.26235417,-0.27542213,-0.26090774,-0.22842944,-0.18394974,-0.1459114,-0.107987456,-0.0714313,-0.024083883,0.017956182,0.05013913,0.08768441,0.099444315,0.09721484,0.087067574,0.087512404,0.09775517,0.09960437,0.08918242,0.053482816,0.059030626,0.037406433,0.017004909,-0.004503965,-0.0361578,-0.040204413,-0.04253806,-0.04053101,-0.036674276,0.04151034,0.0572196,0.056376554,0.04342749,0.03733633,0.03548726,0.0437579,0.056704365,0.05812536,0.04234399,0.035903133,0.037168697,-0.14616744,-0.09819009,-0.08230566,-0.08143815,-0.082920395,-0.09972382,-0.14501351,-0.18525209,-0.19729637,-0.20115432,-0.19791476,-0.18712306,-0.14795253,-0.0986901,-0.09633035,-0.09982459,-0.14453916,-0.1841602,-0.18497013,-0.18443619],\"z\":[0.011347762,0.010315137,0.011083029,0.025240235,0.048015263,0.07675545,0.08985075,0.100378945,0.09722529,0.09387268,0.07764809,0.061260037,0.030245842,0.005722763,-0.008790658,-0.009194342,-0.00963912,0.10104984,0.12933972,0.15454607,0.16599034,0.16978368,0.16765317,0.1609516,0.14447892,0.11213937,0.08135463,0.17850074,0.19877201,0.21884876,0.23417924,0.19450334,0.20056964,0.20419577,0.19918345,0.19113356,0.13708423,0.153189,0.1530859,0.14753027,0.15352379,0.1530481,0.14401212,0.14660995,0.14360403,0.12424226,0.14405204,0.14695221,0.15112188,0.19108886,0.2086544,0.20996058,0.2069531,0.18598863,0.14483325,0.15134147,0.16183922,0.16425516,0.16375794,0.15595204,0.14793873,0.18812901,0.19063762,0.18640609,0.1446823,0.14903304,0.14908129,0.15061113],\"type\":\"scatter3d\"}],                        {\"template\":{\"data\":{\"histogram2dcontour\":[{\"type\":\"histogram2dcontour\",\"colorbar\":{\"outlinewidth\":0,\"ticks\":\"\"},\"colorscale\":[[0.0,\"#0d0887\"],[0.1111111111111111,\"#46039f\"],[0.2222222222222222,\"#7201a8\"],[0.3333333333333333,\"#9c179e\"],[0.4444444444444444,\"#bd3786\"],[0.5555555555555556,\"#d8576b\"],[0.6666666666666666,\"#ed7953\"],[0.7777777777777778,\"#fb9f3a\"],[0.8888888888888888,\"#fdca26\"],[1.0,\"#f0f921\"]]}],\"choropleth\":[{\"type\":\"choropleth\",\"colorbar\":{\"outlinewidth\":0,\"ticks\":\"\"}}],\"histogram2d\":[{\"type\":\"histogram2d\",\"colorbar\":{\"outlinewidth\":0,\"ticks\":\"\"},\"colorscale\":[[0.0,\"#0d0887\"],[0.1111111111111111,\"#46039f\"],[0.2222222222222222,\"#7201a8\"],[0.3333333333333333,\"#9c179e\"],[0.4444444444444444,\"#bd3786\"],[0.5555555555555556,\"#d8576b\"],[0.6666666666666666,\"#ed7953\"],[0.7777777777777778,\"#fb9f3a\"],[0.8888888888888888,\"#fdca26\"],[1.0,\"#f0f921\"]]}],\"heatmap\":[{\"type\":\"heatmap\",\"colorbar\":{\"outlinewidth\":0,\"ticks\":\"\"},\"colorscale\":[[0.0,\"#0d0887\"],[0.1111111111111111,\"#46039f\"],[0.2222222222222222,\"#7201a8\"],[0.3333333333333333,\"#9c179e\"],[0.4444444444444444,\"#bd3786\"],[0.5555555555555556,\"#d8576b\"],[0.6666666666666666,\"#ed7953\"],[0.7777777777777778,\"#fb9f3a\"],[0.8888888888888888,\"#fdca26\"],[1.0,\"#f0f921\"]]}],\"heatmapgl\":[{\"type\":\"heatmapgl\",\"colorbar\":{\"outlinewidth\":0,\"ticks\":\"\"},\"colorscale\":[[0.0,\"#0d0887\"],[0.1111111111111111,\"#46039f\"],[0.2222222222222222,\"#7201a8\"],[0.3333333333333333,\"#9c179e\"],[0.4444444444444444,\"#bd3786\"],[0.5555555555555556,\"#d8576b\"],[0.6666666666666666,\"#ed7953\"],[0.7777777777777778,\"#fb9f3a\"],[0.8888888888888888,\"#fdca26\"],[1.0,\"#f0f921\"]]}],\"contourcarpet\":[{\"type\":\"contourcarpet\",\"colorbar\":{\"outlinewidth\":0,\"ticks\":\"\"}}],\"contour\":[{\"type\":\"contour\",\"colorbar\":{\"outlinewidth\":0,\"ticks\":\"\"},\"colorscale\":[[0.0,\"#0d0887\"],[0.1111111111111111,\"#46039f\"],[0.2222222222222222,\"#7201a8\"],[0.3333333333333333,\"#9c179e\"],[0.4444444444444444,\"#bd3786\"],[0.5555555555555556,\"#d8576b\"],[0.6666666666666666,\"#ed7953\"],[0.7777777777777778,\"#fb9f3a\"],[0.8888888888888888,\"#fdca26\"],[1.0,\"#f0f921\"]]}],\"surface\":[{\"type\":\"surface\",\"colorbar\":{\"outlinewidth\":0,\"ticks\":\"\"},\"colorscale\":[[0.0,\"#0d0887\"],[0.1111111111111111,\"#46039f\"],[0.2222222222222222,\"#7201a8\"],[0.3333333333333333,\"#9c179e\"],[0.4444444444444444,\"#bd3786\"],[0.5555555555555556,\"#d8576b\"],[0.6666666666666666,\"#ed7953\"],[0.7777777777777778,\"#fb9f3a\"],[0.8888888888888888,\"#fdca26\"],[1.0,\"#f0f921\"]]}],\"mesh3d\":[{\"type\":\"mesh3d\",\"colorbar\":{\"outlinewidth\":0,\"ticks\":\"\"}}],\"scatter\":[{\"fillpattern\":{\"fillmode\":\"overlay\",\"size\":10,\"solidity\":0.2},\"type\":\"scatter\"}],\"parcoords\":[{\"type\":\"parcoords\",\"line\":{\"colorbar\":{\"outlinewidth\":0,\"ticks\":\"\"}}}],\"scatterpolargl\":[{\"type\":\"scatterpolargl\",\"marker\":{\"colorbar\":{\"outlinewidth\":0,\"ticks\":\"\"}}}],\"bar\":[{\"error_x\":{\"color\":\"#2a3f5f\"},\"error_y\":{\"color\":\"#2a3f5f\"},\"marker\":{\"line\":{\"color\":\"#E5ECF6\",\"width\":0.5},\"pattern\":{\"fillmode\":\"overlay\",\"size\":10,\"solidity\":0.2}},\"type\":\"bar\"}],\"scattergeo\":[{\"type\":\"scattergeo\",\"marker\":{\"colorbar\":{\"outlinewidth\":0,\"ticks\":\"\"}}}],\"scatterpolar\":[{\"type\":\"scatterpolar\",\"marker\":{\"colorbar\":{\"outlinewidth\":0,\"ticks\":\"\"}}}],\"histogram\":[{\"marker\":{\"pattern\":{\"fillmode\":\"overlay\",\"size\":10,\"solidity\":0.2}},\"type\":\"histogram\"}],\"scattergl\":[{\"type\":\"scattergl\",\"marker\":{\"colorbar\":{\"outlinewidth\":0,\"ticks\":\"\"}}}],\"scatter3d\":[{\"type\":\"scatter3d\",\"line\":{\"colorbar\":{\"outlinewidth\":0,\"ticks\":\"\"}},\"marker\":{\"colorbar\":{\"outlinewidth\":0,\"ticks\":\"\"}}}],\"scattermapbox\":[{\"type\":\"scattermapbox\",\"marker\":{\"colorbar\":{\"outlinewidth\":0,\"ticks\":\"\"}}}],\"scatterternary\":[{\"type\":\"scatterternary\",\"marker\":{\"colorbar\":{\"outlinewidth\":0,\"ticks\":\"\"}}}],\"scattercarpet\":[{\"type\":\"scattercarpet\",\"marker\":{\"colorbar\":{\"outlinewidth\":0,\"ticks\":\"\"}}}],\"carpet\":[{\"aaxis\":{\"endlinecolor\":\"#2a3f5f\",\"gridcolor\":\"white\",\"linecolor\":\"white\",\"minorgridcolor\":\"white\",\"startlinecolor\":\"#2a3f5f\"},\"baxis\":{\"endlinecolor\":\"#2a3f5f\",\"gridcolor\":\"white\",\"linecolor\":\"white\",\"minorgridcolor\":\"white\",\"startlinecolor\":\"#2a3f5f\"},\"type\":\"carpet\"}],\"table\":[{\"cells\":{\"fill\":{\"color\":\"#EBF0F8\"},\"line\":{\"color\":\"white\"}},\"header\":{\"fill\":{\"color\":\"#C8D4E3\"},\"line\":{\"color\":\"white\"}},\"type\":\"table\"}],\"barpolar\":[{\"marker\":{\"line\":{\"color\":\"#E5ECF6\",\"width\":0.5},\"pattern\":{\"fillmode\":\"overlay\",\"size\":10,\"solidity\":0.2}},\"type\":\"barpolar\"}],\"pie\":[{\"automargin\":true,\"type\":\"pie\"}]},\"layout\":{\"autotypenumbers\":\"strict\",\"colorway\":[\"#636efa\",\"#EF553B\",\"#00cc96\",\"#ab63fa\",\"#FFA15A\",\"#19d3f3\",\"#FF6692\",\"#B6E880\",\"#FF97FF\",\"#FECB52\"],\"font\":{\"color\":\"#2a3f5f\"},\"hovermode\":\"closest\",\"hoverlabel\":{\"align\":\"left\"},\"paper_bgcolor\":\"white\",\"plot_bgcolor\":\"#E5ECF6\",\"polar\":{\"bgcolor\":\"#E5ECF6\",\"angularaxis\":{\"gridcolor\":\"white\",\"linecolor\":\"white\",\"ticks\":\"\"},\"radialaxis\":{\"gridcolor\":\"white\",\"linecolor\":\"white\",\"ticks\":\"\"}},\"ternary\":{\"bgcolor\":\"#E5ECF6\",\"aaxis\":{\"gridcolor\":\"white\",\"linecolor\":\"white\",\"ticks\":\"\"},\"baxis\":{\"gridcolor\":\"white\",\"linecolor\":\"white\",\"ticks\":\"\"},\"caxis\":{\"gridcolor\":\"white\",\"linecolor\":\"white\",\"ticks\":\"\"}},\"coloraxis\":{\"colorbar\":{\"outlinewidth\":0,\"ticks\":\"\"}},\"colorscale\":{\"sequential\":[[0.0,\"#0d0887\"],[0.1111111111111111,\"#46039f\"],[0.2222222222222222,\"#7201a8\"],[0.3333333333333333,\"#9c179e\"],[0.4444444444444444,\"#bd3786\"],[0.5555555555555556,\"#d8576b\"],[0.6666666666666666,\"#ed7953\"],[0.7777777777777778,\"#fb9f3a\"],[0.8888888888888888,\"#fdca26\"],[1.0,\"#f0f921\"]],\"sequentialminus\":[[0.0,\"#0d0887\"],[0.1111111111111111,\"#46039f\"],[0.2222222222222222,\"#7201a8\"],[0.3333333333333333,\"#9c179e\"],[0.4444444444444444,\"#bd3786\"],[0.5555555555555556,\"#d8576b\"],[0.6666666666666666,\"#ed7953\"],[0.7777777777777778,\"#fb9f3a\"],[0.8888888888888888,\"#fdca26\"],[1.0,\"#f0f921\"]],\"diverging\":[[0,\"#8e0152\"],[0.1,\"#c51b7d\"],[0.2,\"#de77ae\"],[0.3,\"#f1b6da\"],[0.4,\"#fde0ef\"],[0.5,\"#f7f7f7\"],[0.6,\"#e6f5d0\"],[0.7,\"#b8e186\"],[0.8,\"#7fbc41\"],[0.9,\"#4d9221\"],[1,\"#276419\"]]},\"xaxis\":{\"gridcolor\":\"white\",\"linecolor\":\"white\",\"ticks\":\"\",\"title\":{\"standoff\":15},\"zerolinecolor\":\"white\",\"automargin\":true,\"zerolinewidth\":2},\"yaxis\":{\"gridcolor\":\"white\",\"linecolor\":\"white\",\"ticks\":\"\",\"title\":{\"standoff\":15},\"zerolinecolor\":\"white\",\"automargin\":true,\"zerolinewidth\":2},\"scene\":{\"xaxis\":{\"backgroundcolor\":\"#E5ECF6\",\"gridcolor\":\"white\",\"linecolor\":\"white\",\"showbackground\":true,\"ticks\":\"\",\"zerolinecolor\":\"white\",\"gridwidth\":2},\"yaxis\":{\"backgroundcolor\":\"#E5ECF6\",\"gridcolor\":\"white\",\"linecolor\":\"white\",\"showbackground\":true,\"ticks\":\"\",\"zerolinecolor\":\"white\",\"gridwidth\":2},\"zaxis\":{\"backgroundcolor\":\"#E5ECF6\",\"gridcolor\":\"white\",\"linecolor\":\"white\",\"showbackground\":true,\"ticks\":\"\",\"zerolinecolor\":\"white\",\"gridwidth\":2}},\"shapedefaults\":{\"line\":{\"color\":\"#2a3f5f\"}},\"annotationdefaults\":{\"arrowcolor\":\"#2a3f5f\",\"arrowhead\":0,\"arrowwidth\":1},\"geo\":{\"bgcolor\":\"white\",\"landcolor\":\"#E5ECF6\",\"subunitcolor\":\"white\",\"showland\":true,\"showlakes\":true,\"lakecolor\":\"white\"},\"title\":{\"x\":0.05},\"mapbox\":{\"style\":\"light\"}}}},                        {\"responsive\": true}                    ).then(function(){\n",
       "                            \n",
       "var gd = document.getElementById('e1368303-e1b6-45e7-adca-1d7fc5aeac8c');\n",
       "var x = new MutationObserver(function (mutations, observer) {{\n",
       "        var display = window.getComputedStyle(gd).display;\n",
       "        if (!display || display === 'none') {{\n",
       "            console.log([gd, 'removed!']);\n",
       "            Plotly.purge(gd);\n",
       "            observer.disconnect();\n",
       "        }}\n",
       "}});\n",
       "\n",
       "// Listen for the removal of the full notebook cells\n",
       "var notebookContainer = gd.closest('#notebook-container');\n",
       "if (notebookContainer) {{\n",
       "    x.observe(notebookContainer, {childList: true});\n",
       "}}\n",
       "\n",
       "// Listen for the clearing of the current output cell\n",
       "var outputEl = gd.closest('.output');\n",
       "if (outputEl) {{\n",
       "    x.observe(outputEl, {childList: true});\n",
       "}}\n",
       "\n",
       "                        })                };                });            </script>        </div>"
      ]
     },
     "metadata": {},
     "output_type": "display_data"
    }
   ],
   "source": [
    "\n",
    "# Create a figure\n",
    "fig = go.Figure()\n",
    "\n",
    "point_cloud = lmk3d_gt\n",
    "\n",
    "# Extract x, y, z coordinates from the array\n",
    "x, y, z = point_cloud[:,0], point_cloud[:,1], point_cloud[:,2]\n",
    "fig.add_trace(go.Scatter3d(x=x, y=y, z=z, mode='markers',\n",
    "                                   marker=dict(size=5, opacity=0.8)))\n",
    "\n",
    "point_cloud = lmks3d.detach().cpu().numpy()\n",
    "\n",
    "x, y, z = point_cloud[:,0], point_cloud[:,1], point_cloud[:,2]\n",
    "fig.add_trace(go.Scatter3d(x=x, y=y, z=z, mode='markers',\n",
    "                                   marker=dict(size=5, opacity=0.8)))\n",
    "\n",
    "\n",
    "# for i in range(0, len(front_idx), 5):\n",
    "#     add_camera_frustum_trace(fig, c2w[front_idx[i]], K[front_idx[i]], depth=0.6)\n",
    "# # Update figure layout\n",
    "# fig.update_layout(title='Camera Frustum Visualization',\n",
    "#                   scene=dict(xaxis=dict(title='X'),\n",
    "#                              yaxis=dict(title='Y'),\n",
    "#                              zaxis=dict(title='Z')),\n",
    "#                   margin=dict(l=0, r=0, b=0, t=0))\n",
    "\n",
    "# Show the figure\n",
    "fig.show()\n"
   ]
  },
  {
   "cell_type": "code",
   "execution_count": null,
   "metadata": {},
   "outputs": [],
   "source": []
  }
 ],
 "metadata": {
  "kernelspec": {
   "display_name": "nha",
   "language": "python",
   "name": "python3"
  },
  "language_info": {
   "codemirror_mode": {
    "name": "ipython",
    "version": 3
   },
   "file_extension": ".py",
   "mimetype": "text/x-python",
   "name": "python",
   "nbconvert_exporter": "python",
   "pygments_lexer": "ipython3",
   "version": "3.9.17"
  }
 },
 "nbformat": 4,
 "nbformat_minor": 2
}
